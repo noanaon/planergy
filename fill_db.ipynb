{
 "cells": [
  {
   "cell_type": "code",
   "execution_count": 14,
   "metadata": {},
   "outputs": [],
   "source": [
    "import sqlite3\n",
    "import os\n",
    "import csv"
   ]
  },
  {
   "cell_type": "code",
   "execution_count": 26,
   "metadata": {},
   "outputs": [],
   "source": [
    "connection = sqlite3.connect('db.sqlite3')"
   ]
  },
  {
   "cell_type": "code",
   "execution_count": 27,
   "metadata": {},
   "outputs": [],
   "source": [
    "cursor = connection.cursor()"
   ]
  },
  {
   "cell_type": "code",
   "execution_count": 17,
   "metadata": {},
   "outputs": [
    {
     "data": {
      "text/plain": [
       "<sqlite3.Cursor at 0x1bbd8912810>"
      ]
     },
     "execution_count": 17,
     "metadata": {},
     "output_type": "execute_result"
    }
   ],
   "source": [
    "cursor.execute('''CREATE TABLE IF NOT EXISTS Devices\n",
    "              (device_id INTEGER UNIQUE, device TEXT, room TEXT, consumption INTEGER)''')"
   ]
  },
  {
   "cell_type": "code",
   "execution_count": 22,
   "metadata": {},
   "outputs": [],
   "source": [
    "def add_device(device_id, device, room, consumption):\n",
    "    try: \n",
    "        cursor.execute('INSERT INTO Devices (device_id, device, room, consumption) VALUES (?,?,?,?)',[device_id, device, room, consumption])\n",
    "    except Exception as e: print(e)"
   ]
  },
  {
   "cell_type": "code",
   "execution_count": 23,
   "metadata": {},
   "outputs": [],
   "source": [
    "file = open('marsapp/data/dummy_data.csv')\n",
    "csvfile = csv.reader(file)\n",
    "\n",
    "for row in csvfile:\n",
    "    device_id = row[0]\n",
    "    device = row[1]\n",
    "    room = row[2]\n",
    "    consumption = row[3]              \n",
    "    try:\n",
    "        connection = sqlite3.connect('db.sqlite3')\n",
    "        cursor = connection.cursor()\n",
    "        add_device(device_id, device, room, consumption)\n",
    "        connection.commit()\n",
    "        connection.close()\n",
    "    except Exception as e: print(e)"
   ]
  },
  {
   "cell_type": "code",
   "execution_count": 28,
   "metadata": {},
   "outputs": [
    {
     "name": "stdout",
     "output_type": "stream",
     "text": [
      "[('device_id', 'device', 'room', 'average_consumption'), (1, 'big_lamp', 'bathroom', 50), (2, 'mirror_lamp', 'bathroom', 60), (3, 'electric_toothbrush', 'bathroom', 5), (4, 'electric_razorblade', 'bathroom', 8), (5, 'kettle', 'kitchen', 80), (6, 'refridgerator', 'kitchen', 130), (7, 'big_lamp', 'kitchen', 50), (8, 'microwave', 'kitchen', 220), (9, 'cooker', 'kitchen', 150), (10, 'washing_machine', 'kitchen', 195), (11, 'reading_lamp', 'living_room', 25), (12, 'holographic_tv', 'living_room', 185), (13, 'big_lamp', 'living_room', 50), (14, 'earth_simulator', 'living_room', 235), (15, 'big_lamp', 'bed_room', 50), (16, 'reading_lamp', 'bed_room', 25), (17, 'night_lamp', 'bed_room', 12), (18, 'phone_charger', 'bed_room', 45)]\n"
     ]
    }
   ],
   "source": [
    "def get_table():\n",
    "    query = \"SELECT * FROM Devices\"\n",
    "    cursor.execute(query)\n",
    "    print(cursor.fetchall())\n",
    "get_table()"
   ]
  },
  {
   "cell_type": "code",
   "execution_count": null,
   "metadata": {},
   "outputs": [],
   "source": [
    "connection.commit()"
   ]
  },
  {
   "cell_type": "code",
   "execution_count": null,
   "metadata": {},
   "outputs": [],
   "source": [
    "connection.close()"
   ]
  }
 ],
 "metadata": {
  "interpreter": {
   "hash": "f7f691a2a77744fafe2dfaa737cbb001553d102c44b99608631055509584f21e"
  },
  "kernelspec": {
   "display_name": "Python 3.9.10 64-bit (windows store)",
   "language": "python",
   "name": "python3"
  },
  "language_info": {
   "codemirror_mode": {
    "name": "ipython",
    "version": 3
   },
   "file_extension": ".py",
   "mimetype": "text/x-python",
   "name": "python",
   "nbconvert_exporter": "python",
   "pygments_lexer": "ipython3",
   "version": "3.9.10"
  },
  "orig_nbformat": 4
 },
 "nbformat": 4,
 "nbformat_minor": 2
}
